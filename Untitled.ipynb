{
 "cells": [
  {
   "cell_type": "markdown",
   "id": "a845091b",
   "metadata": {},
   "source": [
    "# Лабораторная 62.1"
   ]
  },
  {
   "cell_type": "code",
   "execution_count": 6,
   "id": "42724192",
   "metadata": {},
   "outputs": [],
   "source": [
    "from csv import *\n",
    "import pandas as pd\n",
    "import matplotlib.pyplot as plt"
   ]
  },
  {
   "cell_type": "code",
   "execution_count": 4,
   "id": "9d8de2b7",
   "metadata": {},
   "outputs": [],
   "source": [
    "def read_csv_file (path):\n",
    "    with open (file_path, 'r') as file:\n",
    "        data = file.readlines()\n",
    "    return data\n",
    "\n",
    "def preprocessing_data(data):\n",
    "    data = data [2:]\n",
    "    for i in range (len(data)):\n",
    "        data[i] = data[i].split(';')\n",
    "        data[i] = data[i][1:]\n",
    "        for j in range (len(data[i])-1):\n",
    "            data[i][j] = float (data[i][j])\n",
    "        data[i][len(data[i])-1] = float (data[i][len(data[i])-1][:-1])\n",
    "    return data"
   ]
  },
  {
   "cell_type": "markdown",
   "id": "e236af2f",
   "metadata": {},
   "source": [
    "## Задание 1"
   ]
  },
  {
   "cell_type": "code",
   "execution_count": 30,
   "id": "b735b2cc",
   "metadata": {},
   "outputs": [],
   "source": [
    "file_path = \"ex1.csv\"\n",
    "data = read_csv_file (file_path)\n",
    "\n",
    "data = preprocessing_data(data)\n",
    "\n",
    "av1 = []\n",
    "for i in range (14):\n",
    "    av1.append ((data[0][i] + data[1][i] +data[2][i] +data[3][i])/4)\n",
    "\n",
    "columns = ['1', '2', '3', '4', '5', '6', '7', '8', '9', '10', '11', '12', '13', '14',]\n",
    "tab1 = pd.DataFrame(columns=columns)\n",
    "\n",
    "for i in range(4):\n",
    "    line = data[i]\n",
    "    temp_df = pd.DataFrame([line], columns=columns)\n",
    "    tab1 = pd.concat([tab, temp_df], ignore_index=True)\n",
    "line = av1\n",
    "temp_df = pd.DataFrame([line], columns=columns)\n",
    "tab1 = pd.concat([tab, temp_df], ignore_index=True)"
   ]
  },
  {
   "cell_type": "code",
   "execution_count": 31,
   "id": "2eeafe81",
   "metadata": {},
   "outputs": [
    {
     "data": {
      "text/html": [
       "<div>\n",
       "<style scoped>\n",
       "    .dataframe tbody tr th:only-of-type {\n",
       "        vertical-align: middle;\n",
       "    }\n",
       "\n",
       "    .dataframe tbody tr th {\n",
       "        vertical-align: top;\n",
       "    }\n",
       "\n",
       "    .dataframe thead th {\n",
       "        text-align: right;\n",
       "    }\n",
       "</style>\n",
       "<table border=\"1\" class=\"dataframe\">\n",
       "  <thead>\n",
       "    <tr style=\"text-align: right;\">\n",
       "      <th></th>\n",
       "      <th>1</th>\n",
       "      <th>2</th>\n",
       "      <th>3</th>\n",
       "      <th>4</th>\n",
       "      <th>5</th>\n",
       "      <th>6</th>\n",
       "      <th>7</th>\n",
       "      <th>8</th>\n",
       "      <th>9</th>\n",
       "      <th>10</th>\n",
       "      <th>11</th>\n",
       "      <th>12</th>\n",
       "      <th>13</th>\n",
       "      <th>14</th>\n",
       "    </tr>\n",
       "  </thead>\n",
       "  <tbody>\n",
       "    <tr>\n",
       "      <th>0</th>\n",
       "      <td>5.5</td>\n",
       "      <td>14.00</td>\n",
       "      <td>15.50</td>\n",
       "      <td>14.00</td>\n",
       "      <td>10.000</td>\n",
       "      <td>6.500</td>\n",
       "      <td>5.0</td>\n",
       "      <td>3.5</td>\n",
       "      <td>2.400</td>\n",
       "      <td>1.600</td>\n",
       "      <td>1.000</td>\n",
       "      <td>0.70</td>\n",
       "      <td>0.500</td>\n",
       "      <td>0.500</td>\n",
       "    </tr>\n",
       "    <tr>\n",
       "      <th>1</th>\n",
       "      <td>6.2</td>\n",
       "      <td>13.00</td>\n",
       "      <td>14.70</td>\n",
       "      <td>14.50</td>\n",
       "      <td>9.000</td>\n",
       "      <td>6.200</td>\n",
       "      <td>4.5</td>\n",
       "      <td>3.1</td>\n",
       "      <td>2.100</td>\n",
       "      <td>1.500</td>\n",
       "      <td>1.000</td>\n",
       "      <td>0.80</td>\n",
       "      <td>0.300</td>\n",
       "      <td>0.400</td>\n",
       "    </tr>\n",
       "    <tr>\n",
       "      <th>2</th>\n",
       "      <td>6.0</td>\n",
       "      <td>13.10</td>\n",
       "      <td>15.00</td>\n",
       "      <td>13.50</td>\n",
       "      <td>9.200</td>\n",
       "      <td>6.000</td>\n",
       "      <td>4.5</td>\n",
       "      <td>3.4</td>\n",
       "      <td>2.500</td>\n",
       "      <td>1.500</td>\n",
       "      <td>1.000</td>\n",
       "      <td>0.80</td>\n",
       "      <td>0.600</td>\n",
       "      <td>0.300</td>\n",
       "    </tr>\n",
       "    <tr>\n",
       "      <th>3</th>\n",
       "      <td>6.3</td>\n",
       "      <td>16.10</td>\n",
       "      <td>16.80</td>\n",
       "      <td>14.20</td>\n",
       "      <td>8.500</td>\n",
       "      <td>5.200</td>\n",
       "      <td>3.2</td>\n",
       "      <td>2.0</td>\n",
       "      <td>1.300</td>\n",
       "      <td>0.600</td>\n",
       "      <td>0.500</td>\n",
       "      <td>0.70</td>\n",
       "      <td>0.200</td>\n",
       "      <td>0.100</td>\n",
       "    </tr>\n",
       "    <tr>\n",
       "      <th>4</th>\n",
       "      <td>6.0</td>\n",
       "      <td>14.05</td>\n",
       "      <td>15.50</td>\n",
       "      <td>14.05</td>\n",
       "      <td>9.175</td>\n",
       "      <td>5.975</td>\n",
       "      <td>4.3</td>\n",
       "      <td>3.0</td>\n",
       "      <td>2.075</td>\n",
       "      <td>1.300</td>\n",
       "      <td>0.875</td>\n",
       "      <td>0.75</td>\n",
       "      <td>0.400</td>\n",
       "      <td>0.325</td>\n",
       "    </tr>\n",
       "    <tr>\n",
       "      <th>5</th>\n",
       "      <td>15.0</td>\n",
       "      <td>19.00</td>\n",
       "      <td>18.55</td>\n",
       "      <td>11.75</td>\n",
       "      <td>6.925</td>\n",
       "      <td>4.125</td>\n",
       "      <td>2.8</td>\n",
       "      <td>2.0</td>\n",
       "      <td>1.250</td>\n",
       "      <td>0.825</td>\n",
       "      <td>0.475</td>\n",
       "      <td>0.35</td>\n",
       "      <td>0.275</td>\n",
       "      <td>0.300</td>\n",
       "    </tr>\n",
       "  </tbody>\n",
       "</table>\n",
       "</div>"
      ],
      "text/plain": [
       "      1      2      3      4       5      6    7    8      9     10     11  \\\n",
       "0   5.5  14.00  15.50  14.00  10.000  6.500  5.0  3.5  2.400  1.600  1.000   \n",
       "1   6.2  13.00  14.70  14.50   9.000  6.200  4.5  3.1  2.100  1.500  1.000   \n",
       "2   6.0  13.10  15.00  13.50   9.200  6.000  4.5  3.4  2.500  1.500  1.000   \n",
       "3   6.3  16.10  16.80  14.20   8.500  5.200  3.2  2.0  1.300  0.600  0.500   \n",
       "4   6.0  14.05  15.50  14.05   9.175  5.975  4.3  3.0  2.075  1.300  0.875   \n",
       "5  15.0  19.00  18.55  11.75   6.925  4.125  2.8  2.0  1.250  0.825  0.475   \n",
       "\n",
       "     12     13     14  \n",
       "0  0.70  0.500  0.500  \n",
       "1  0.80  0.300  0.400  \n",
       "2  0.80  0.600  0.300  \n",
       "3  0.70  0.200  0.100  \n",
       "4  0.75  0.400  0.325  \n",
       "5  0.35  0.275  0.300  "
      ]
     },
     "execution_count": 31,
     "metadata": {},
     "output_type": "execute_result"
    }
   ],
   "source": [
    "tab1"
   ]
  },
  {
   "cell_type": "code",
   "execution_count": 37,
   "id": "b2323339",
   "metadata": {
    "scrolled": true
   },
   "outputs": [
    {
     "data": {
      "image/png": "[encoded data removed]",
      "text/plain": [
       "<Figure size 640x480 with 1 Axes>"
      ]
     },
     "metadata": {},
     "output_type": "display_data"
    }
   ],
   "source": [
    "x = [i-0.5 for i in range (1, 15)]\n",
    "plt.xticks([i-0.5 for i in range (1, 15)])\n",
    "plt.xlabel('Координата')\n",
    "plt.ylabel('Высота')\n",
    "plt.plot (x, av1, 'ro')\n",
    "plt.plot (x, av1)\n",
    "plt.show()"
   ]
  },
  {
   "cell_type": "markdown",
   "id": "91df72aa",
   "metadata": {},
   "source": [
    "## Задание 2"
   ]
  },
  {
   "cell_type": "code",
   "execution_count": 32,
   "id": "d8eee088",
   "metadata": {},
   "outputs": [],
   "source": [
    "file_path = \"ex2.csv\"\n",
    "data = read_csv_file (file_path)\n",
    "\n",
    "data = preprocessing_data(data)\n",
    "\n",
    "av2 = []\n",
    "for i in range (14):\n",
    "    av2.append ((data[0][i] + data[1][i] +data[2][i] +data[3][i])/4)\n",
    "\n",
    "columns = ['1', '2', '3', '4', '5', '6', '7', '8', '9', '10', '11', '12', '13', '14',]\n",
    "tab2 = pd.DataFrame(columns=columns)\n",
    "\n",
    "for i in range(4):\n",
    "    line = data[i]\n",
    "    temp_df = pd.DataFrame([line], columns=columns)\n",
    "    tab2 = pd.concat([tab, temp_df], ignore_index=True)\n",
    "line = av2\n",
    "temp_df = pd.DataFrame([line], columns=columns)\n",
    "tab2 = pd.concat([tab, temp_df], ignore_index=True)"
   ]
  },
  {
   "cell_type": "code",
   "execution_count": 33,
   "id": "3f664baa",
   "metadata": {},
   "outputs": [
    {
     "data": {
      "text/html": [
       "<div>\n",
       "<style scoped>\n",
       "    .dataframe tbody tr th:only-of-type {\n",
       "        vertical-align: middle;\n",
       "    }\n",
       "\n",
       "    .dataframe tbody tr th {\n",
       "        vertical-align: top;\n",
       "    }\n",
       "\n",
       "    .dataframe thead th {\n",
       "        text-align: right;\n",
       "    }\n",
       "</style>\n",
       "<table border=\"1\" class=\"dataframe\">\n",
       "  <thead>\n",
       "    <tr style=\"text-align: right;\">\n",
       "      <th></th>\n",
       "      <th>1</th>\n",
       "      <th>2</th>\n",
       "      <th>3</th>\n",
       "      <th>4</th>\n",
       "      <th>5</th>\n",
       "      <th>6</th>\n",
       "      <th>7</th>\n",
       "      <th>8</th>\n",
       "      <th>9</th>\n",
       "      <th>10</th>\n",
       "      <th>11</th>\n",
       "      <th>12</th>\n",
       "      <th>13</th>\n",
       "      <th>14</th>\n",
       "    </tr>\n",
       "  </thead>\n",
       "  <tbody>\n",
       "    <tr>\n",
       "      <th>0</th>\n",
       "      <td>5.5</td>\n",
       "      <td>14.00</td>\n",
       "      <td>15.5</td>\n",
       "      <td>14.00</td>\n",
       "      <td>10.000</td>\n",
       "      <td>6.500</td>\n",
       "      <td>5.0</td>\n",
       "      <td>3.5</td>\n",
       "      <td>2.400</td>\n",
       "      <td>1.6</td>\n",
       "      <td>1.000</td>\n",
       "      <td>0.70</td>\n",
       "      <td>0.5</td>\n",
       "      <td>0.500</td>\n",
       "    </tr>\n",
       "    <tr>\n",
       "      <th>1</th>\n",
       "      <td>6.2</td>\n",
       "      <td>13.00</td>\n",
       "      <td>14.7</td>\n",
       "      <td>14.50</td>\n",
       "      <td>9.000</td>\n",
       "      <td>6.200</td>\n",
       "      <td>4.5</td>\n",
       "      <td>3.1</td>\n",
       "      <td>2.100</td>\n",
       "      <td>1.5</td>\n",
       "      <td>1.000</td>\n",
       "      <td>0.80</td>\n",
       "      <td>0.3</td>\n",
       "      <td>0.400</td>\n",
       "    </tr>\n",
       "    <tr>\n",
       "      <th>2</th>\n",
       "      <td>6.0</td>\n",
       "      <td>13.10</td>\n",
       "      <td>15.0</td>\n",
       "      <td>13.50</td>\n",
       "      <td>9.200</td>\n",
       "      <td>6.000</td>\n",
       "      <td>4.5</td>\n",
       "      <td>3.4</td>\n",
       "      <td>2.500</td>\n",
       "      <td>1.5</td>\n",
       "      <td>1.000</td>\n",
       "      <td>0.80</td>\n",
       "      <td>0.6</td>\n",
       "      <td>0.300</td>\n",
       "    </tr>\n",
       "    <tr>\n",
       "      <th>3</th>\n",
       "      <td>6.3</td>\n",
       "      <td>16.10</td>\n",
       "      <td>16.8</td>\n",
       "      <td>14.20</td>\n",
       "      <td>8.500</td>\n",
       "      <td>5.200</td>\n",
       "      <td>3.2</td>\n",
       "      <td>2.0</td>\n",
       "      <td>1.300</td>\n",
       "      <td>0.6</td>\n",
       "      <td>0.500</td>\n",
       "      <td>0.70</td>\n",
       "      <td>0.2</td>\n",
       "      <td>0.100</td>\n",
       "    </tr>\n",
       "    <tr>\n",
       "      <th>4</th>\n",
       "      <td>6.0</td>\n",
       "      <td>14.05</td>\n",
       "      <td>15.5</td>\n",
       "      <td>14.05</td>\n",
       "      <td>9.175</td>\n",
       "      <td>5.975</td>\n",
       "      <td>4.3</td>\n",
       "      <td>3.0</td>\n",
       "      <td>2.075</td>\n",
       "      <td>1.3</td>\n",
       "      <td>0.875</td>\n",
       "      <td>0.75</td>\n",
       "      <td>0.4</td>\n",
       "      <td>0.325</td>\n",
       "    </tr>\n",
       "    <tr>\n",
       "      <th>5</th>\n",
       "      <td>6.0</td>\n",
       "      <td>14.05</td>\n",
       "      <td>15.5</td>\n",
       "      <td>14.05</td>\n",
       "      <td>9.175</td>\n",
       "      <td>5.975</td>\n",
       "      <td>4.3</td>\n",
       "      <td>3.0</td>\n",
       "      <td>2.075</td>\n",
       "      <td>1.3</td>\n",
       "      <td>0.875</td>\n",
       "      <td>0.75</td>\n",
       "      <td>0.4</td>\n",
       "      <td>0.325</td>\n",
       "    </tr>\n",
       "  </tbody>\n",
       "</table>\n",
       "</div>"
      ],
      "text/plain": [
       "     1      2     3      4       5      6    7    8      9   10     11    12  \\\n",
       "0  5.5  14.00  15.5  14.00  10.000  6.500  5.0  3.5  2.400  1.6  1.000  0.70   \n",
       "1  6.2  13.00  14.7  14.50   9.000  6.200  4.5  3.1  2.100  1.5  1.000  0.80   \n",
       "2  6.0  13.10  15.0  13.50   9.200  6.000  4.5  3.4  2.500  1.5  1.000  0.80   \n",
       "3  6.3  16.10  16.8  14.20   8.500  5.200  3.2  2.0  1.300  0.6  0.500  0.70   \n",
       "4  6.0  14.05  15.5  14.05   9.175  5.975  4.3  3.0  2.075  1.3  0.875  0.75   \n",
       "5  6.0  14.05  15.5  14.05   9.175  5.975  4.3  3.0  2.075  1.3  0.875  0.75   \n",
       "\n",
       "    13     14  \n",
       "0  0.5  0.500  \n",
       "1  0.3  0.400  \n",
       "2  0.6  0.300  \n",
       "3  0.2  0.100  \n",
       "4  0.4  0.325  \n",
       "5  0.4  0.325  "
      ]
     },
     "execution_count": 33,
     "metadata": {},
     "output_type": "execute_result"
    }
   ],
   "source": [
    "tab2"
   ]
  },
  {
   "cell_type": "code",
   "execution_count": 38,
   "id": "ee17c320",
   "metadata": {},
   "outputs": [
    {
     "data": {
      "image/png": "[encoded data removed]",
      "text/plain": [
       "<Figure size 640x480 with 1 Axes>"
      ]
     },
     "metadata": {},
     "output_type": "display_data"
    }
   ],
   "source": [
    "x = [i-0.5 for i in range (1, 15)]\n",
    "plt.xticks([i-0.5 for i in range (1, 15)])\n",
    "plt.xlabel('Координата')\n",
    "plt.ylabel('Высота')\n",
    "plt.plot (x, av2, 'ro')\n",
    "plt.plot (x, av2)\n",
    "plt.show()"
   ]
  },
  {
   "cell_type": "markdown",
   "id": "2b0d275d",
   "metadata": {},
   "source": [
    "## Задание 3"
   ]
  },
  {
   "cell_type": "markdown",
   "id": "0903ccd2",
   "metadata": {},
   "source": [
    "$$ <r> = \\frac {\\int_0^\\infty rf(r)dr}{\\int_0^\\infty f(r)dr}$$"
   ]
  },
  {
   "cell_type": "markdown",
   "id": "92b82fe2",
   "metadata": {},
   "source": [
    "$$ <r> = \\frac {\\int_0^\\infty rh(r)dr}{\\int_0^\\infty h(r)dr}$$"
   ]
  },
  {
   "cell_type": "markdown",
   "id": "e73ddc26",
   "metadata": {},
   "source": [
    "$$ <r> = \\frac {\\sum_i r_ih_i}{\\sum_i h_i}$$"
   ]
  },
  {
   "cell_type": "markdown",
   "id": "5051a9f1",
   "metadata": {},
   "source": [
    "### 4 сетки"
   ]
  },
  {
   "cell_type": "code",
   "execution_count": 50,
   "id": "3311103f",
   "metadata": {},
   "outputs": [
    {
     "name": "stdout",
     "output_type": "stream",
     "text": [
      "<r> = 2.93587\n",
      "<r^2> = 13.91039\n",
      "<r_кв> = 3.72966\n",
      "<r_теор> = 4.67437\n",
      "<r^2_теор> = 27.82078\n"
     ]
    }
   ],
   "source": [
    "sum_h = 0\n",
    "sum_hr = 0\n",
    "sum_hr2 = 0\n",
    "for i in range (14):\n",
    "    sum_h += av1[i]\n",
    "    sum_hr += av1[i]*(i+0.5)\n",
    "    sum_hr2 += av1[i]*(i+0.5)**2\n",
    "\n",
    "print (\"<r> =\", round (sum_hr/sum_h, 5))\n",
    "print (\"<r^2> =\", round (sum_hr2/sum_h, 5))\n",
    "print (\"<r_кв> =\", round ((sum_hr2/sum_h)**(0.5), 5))\n",
    "print (\"<r_теор> =\", round (((sum_hr2/sum_h)**(0.5))*((3.1415/2)**(0.5)), 5))\n",
    "print (\"<r^2_теор> =\", round (2*(sum_hr2/sum_h), 5))"
   ]
  },
  {
   "cell_type": "markdown",
   "id": "009bcffd",
   "metadata": {},
   "source": [
    "### 12 сеток"
   ]
  },
  {
   "cell_type": "code",
   "execution_count": 51,
   "id": "7262fdaa",
   "metadata": {},
   "outputs": [
    {
     "name": "stdout",
     "output_type": "stream",
     "text": [
      "<r> = 3.7774\n",
      "<r^2> = 20.61966\n",
      "<r_кв> = 4.54089\n",
      "<r_теор> = 5.69107\n",
      "<r^2_теор> = 41.23931\n"
     ]
    }
   ],
   "source": [
    "sum_h = 0\n",
    "sum_hr = 0\n",
    "sum_hr2 = 0\n",
    "for i in range (14):\n",
    "    sum_h += av2[i]\n",
    "    sum_hr += av2[i]*(i+0.5)\n",
    "    sum_hr2 += av2[i]*(i+0.5)**2\n",
    "\n",
    "print (\"<r> =\", round (sum_hr/sum_h, 5))\n",
    "print (\"<r^2> =\", round (sum_hr2/sum_h, 5))\n",
    "print (\"<r_кв> =\", round ((sum_hr2/sum_h)**(0.5), 5))\n",
    "print (\"<r_теор> =\", round (((sum_hr2/sum_h)**(0.5))*((3.1415/2)**(0.5)), 5))\n",
    "print (\"<r^2_теор> =\", round (2*(sum_hr2/sum_h), 5))"
   ]
  },
  {
   "cell_type": "code",
   "execution_count": null,
   "id": "986b4d4f",
   "metadata": {},
   "outputs": [],
   "source": []
  }
 ],
 "metadata": {
  "kernelspec": {
   "display_name": "Python 3 (ipykernel)",
   "language": "python",
   "name": "python3"
  },
  "language_info": {
   "codemirror_mode": {
    "name": "ipython",
    "version": 3
   },
   "file_extension": ".py",
   "mimetype": "text/x-python",
   "name": "python",
   "nbconvert_exporter": "python",
   "pygments_lexer": "ipython3",
   "version": "3.11.5"
  }
 },
 "nbformat": 4,
 "nbformat_minor": 5
}
